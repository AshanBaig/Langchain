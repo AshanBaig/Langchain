{
 "cells": [
  {
   "cell_type": "code",
   "execution_count": null,
   "id": "15404404",
   "metadata": {},
   "outputs": [],
   "source": [
    "# step 1 load docu\n",
    "from langchain.document_loaders import PyPDFLoader\n",
    "loader = PyPDFLoader(\"books/cod_book.pdf\")\n",
    "pages = loader.load_and_split()"
   ]
  },
  {
   "cell_type": "code",
   "execution_count": null,
   "id": "c46c5b56",
   "metadata": {},
   "outputs": [],
   "source": [
    "# step 2 text splitter\n",
    "from langchain.text_splitter import RecursiveCharacterTextSplitter\n",
    "text_splitter =  RecursiveCharacterTextSplitter(\n",
    "    chunk_size=1000,\n",
    "    chunk_overlap=200\n",
    ")\n",
    "docs =  text_splitter.split_documents(pages) #Each chunk still keeps the metadata (like page number)."
   ]
  },
  {
   "cell_type": "code",
   "execution_count": 4,
   "id": "fc84944d",
   "metadata": {},
   "outputs": [
    {
     "name": "stderr",
     "output_type": "stream",
     "text": [
      "C:\\Users\\ashan\\AppData\\Local\\Temp\\ipykernel_6704\\2688593124.py:3: LangChainDeprecationWarning: The class `HuggingFaceEmbeddings` was deprecated in LangChain 0.2.2 and will be removed in 1.0. An updated version of the class exists in the :class:`~langchain-huggingface package and should be used instead. To use it run `pip install -U :class:`~langchain-huggingface` and import as `from :class:`~langchain_huggingface import HuggingFaceEmbeddings``.\n",
      "  embedding_model = HuggingFaceEmbeddings(model_name=\"all-MiniLM-L6-v2\")\n",
      "c:\\Users\\ashan\\AppData\\Local\\Programs\\Python\\Python313\\Lib\\site-packages\\tqdm\\auto.py:21: TqdmWarning: IProgress not found. Please update jupyter and ipywidgets. See https://ipywidgets.readthedocs.io/en/stable/user_install.html\n",
      "  from .autonotebook import tqdm as notebook_tqdm\n"
     ]
    }
   ],
   "source": [
    "# step 3 embedding model\n",
    "from langchain.embeddings import HuggingFaceEmbeddings\n",
    "from langchain.vectorstores import FAISS\n",
    "embedding_model = HuggingFaceEmbeddings(model_name=\"all-MiniLM-L6-v2\")\n",
    "vector_store = FAISS.from_documents(\n",
    "    documents=docs,\n",
    "    embedding=embedding_model\n",
    ")"
   ]
  },
  {
   "cell_type": "code",
   "execution_count": 46,
   "id": "27be28a0",
   "metadata": {},
   "outputs": [],
   "source": [
    "reterivr =     vector_store.as_retriever(search_type = \"similarity\",search_kwargs={\"k\":5}) # Only return results >= 70% similarity"
   ]
  },
  {
   "cell_type": "code",
   "execution_count": 54,
   "id": "7b8032d4",
   "metadata": {},
   "outputs": [],
   "source": [
    "querry = \"\"\"Suppose you have a machine which executes a program consisting of 45% type A instructions,\n",
    "35% type B instructions, and the remaining 20% are type C instructions. Management wants the machine to\n",
    "run at least 1.8 times faster. You can make type A instructions run at most 3 times faster, type B instructions\n",
    "run at most 4 times faster and type C instructions run 8 times faster. Budgetary constraints allow you to make\n",
    "at most two improvements. Identify which combination(s) can help you in achieving the goal\"\"\"  # past ppr question\n",
    "q2 = \"\"\"A processor can use interrupt driven I0 technique to perform data transfer at a rate of 1 MB/sec. If DMA is\n",
    "used then 1 KB can be transferred in 250 clock cycles. clock speed is 4 MHZ, determine the time saved in\n",
    "milliseconds usingthe DMA controler to transfer 64KB of data.\"\"\"\n",
    "q3=\"\"\"\n",
    "A 24-bit format is used to represent floating point numbers such that most significant bit is used to represent\n",
    "sign of the numbers, next 7bits are used to represent exponent using 2's complement notation. Remaining bits stores\n",
    "mantissa in normalized form (1.bbb..). No bit pattern is reserved to represent any special case. [6]\n",
    "a. Determine smallest negative numberthat can be represented usingthis format.\n",
    "b. Determine binaryfloating-point representationof256 using this format.\n",
    "c.Determine the decimal numberrepresented by bit pattern Ox409000 in this format.\n",
    "d.Represent 0.000001011) 2x 2-60 using this format.\n",
    "e Ifvou are allowed to reserve some bit pattern(s) Tor representing0, give your most realistic choicels)for it\n",
    "f fonlv5 bits are used to represent exponent, then identity twO Clear cut outcomes of this modification\n",
    "\"\"\""
   ]
  },
  {
   "cell_type": "code",
   "execution_count": 57,
   "id": "82435abb",
   "metadata": {},
   "outputs": [
    {
     "data": {
      "text/plain": [
       "{'producer': '',\n",
       " 'creator': '',\n",
       " 'creationdate': '2012-02-21T12:11:08+05:30',\n",
       " 'author': '',\n",
       " 'keywords': '',\n",
       " 'moddate': '2017-07-14T10:51:04+05:00',\n",
       " 'subject': '',\n",
       " 'title': '',\n",
       " 'universal pdf': 'The process that creates this PDF constitutes a trade secret of codeMantra, LLC and is protected by the copyright laws of the United States',\n",
       " 'codemantra, llc': 'http://www.codemantra.com',\n",
       " 'source': 'books/cod_book.pdf',\n",
       " 'total_pages': 787,\n",
       " 'page': 365,\n",
       " 'page_label': '343'}"
      ]
     },
     "execution_count": 57,
     "metadata": {},
     "output_type": "execute_result"
    }
   ],
   "source": [
    "result = reterivr.invoke(q3)\n",
    "result[0].metadata"
   ]
  },
  {
   "cell_type": "code",
   "execution_count": 58,
   "id": "3f05847e",
   "metadata": {},
   "outputs": [
    {
     "name": "stdout",
     "output_type": "stream",
     "text": [
      "\n",
      "Result 1\n",
      "\n",
      "PageNumber:  365\n",
      "Figure 10.18b gives some examples of numbers stored in this format. For each \n",
      "example, on the left is the binary number; in the center is the corresponding bit pat-\n",
      "tern; on the right is the decimal value. Note the following features:\n",
      " • The sign is stored in the first bit of the word.\n",
      " • The first bit of the true significand is always 1 and need not be stored in the \n",
      "significand field.\n",
      " • The value 127 is added to the true exponent to be stored in the exponent field.\n",
      " • The base is 2.\n",
      "For comparison, Figure 10.19 indicates the range of numbers that can be rep-\n",
      "resented in a 32-bit word. Using twos complement integer representation, all of the \n",
      "integers from -2\n",
      "31 to 2 31 - 1 can be represented, for a total of 2 32 different num-\n",
      "bers. With the example floating-point format of Figure 10.18, the following ranges \n",
      "of numbers are possible:\n",
      " • Negative numbers between -(2 - 2\n",
      "-23) * 2128 and -2-127\n",
      " • Positive numbers between 2-127 and (2 - 2-23) * 2128\n",
      "Expressible integers\n",
      "\n",
      "Result 2\n",
      "\n",
      "PageNumber:  368\n",
      "Number of values 1.98 * 231 1.99 * 263 1.99 * 2128\n",
      "Smallest positive normal number 2-126 2-1022 2-16362\n",
      "Largest positive normal number 2128 - 2104 21024 - 2971 216384 - 216271\n",
      "Smallest subnormal magnitude 2-149 2-1074 2-16494\n",
      "Note: *not including implied bit and not including sign bit\n",
      "Trailing significand field\n",
      "(c) Binary128 format\n",
      "Biased\n",
      "exponent\n",
      "Trailing significand field\n",
      "(b) Binary64 format\n",
      "8 bits\n",
      "Sign\n",
      "bit\n",
      "Trailing\n",
      "significand field\n",
      "(a) Binary32 format\n",
      "Biased\n",
      "exponent\n",
      "23 bits\n",
      "11 bits 52 bits\n",
      "15 bits 112 bits\n",
      "Sign\n",
      "bit\n",
      "Biased\n",
      "exponent\n",
      "Sign\n",
      "bit\n",
      "Figure 10.21 IEEE 754 Formats\n",
      "\n",
      "Result 3\n",
      "\n",
      "PageNumber:  384\n",
      "a. -5   b. -6   c. -1.5   d. 384   e. 1/16   f. -1/32\n",
      " 10.24 The following numbers use the IEEE 32-bit floating-point format. What is the equiva-\n",
      "lent decimal value?\n",
      "a. 1 10000011 11000000000000000000000\n",
      "b. 0 01111110 10100000000000000000000\n",
      "c. 0 10000000 00000000000000000000000\n",
      " 10.25 Consider a reduced 7-bit IEEE floating-point format, with 3 bits for the exponent and \n",
      "3 bits for the significand. List all 127 values.\n",
      " 10.26 Express the following numbers in IBM’s 32-bit floating-point format, which uses a \n",
      "7-bit exponent with an implied base of 16 and an exponent bias of 64 (40 hexadeci-\n",
      "mal). A normalized floating-point number requires that the leftmost hexadecimal \n",
      "digit be nonzero; the implied radix point is to the left of that digit.\n",
      "a. 1.0 c. 1/64 e. -15.0 g. 7.2 * 10\n",
      "75\n",
      "b. 0.5 d. 0.0 f. 5.4 * 10-79 h. 65,535\n",
      " 10.27 Let 5BCA0000 be a floating-point number in IBM format, expressed in hexadecimal. \n",
      "What is the decimal value of the number?\n",
      " 10.28 What would be the bias value for\n",
      "\n",
      "Result 4\n",
      "\n",
      "PageNumber:  364\n",
      "342  CHAPTER 10 / COMPUTER ARITHMETIC\n",
      "The base B is implicit and need not be stored because it is the same for all numbers. \n",
      "Typically, it is assumed that the radix point is to the right of the leftmost, or most \n",
      "significant, bit of the significand. That is, there is one bit to the left of the radix point.\n",
      "The principles used in representing binary floating-point numbers are best \n",
      "explained with an example. Figure 10.18a shows a typical 32-bit floating-point for-\n",
      "mat. The leftmost bit stores the sign of the number (0 = positive, 1 = negative). \n",
      "The exponent value is stored in the next 8 bits. The representation used is known as \n",
      "a biased representation. A fixed value, called the bias, is subtracted from the field \n",
      "to get the true exponent value. Typically, the bias equals (2\n",
      "k -1 - 1), where k is the \n",
      "number of bits in the binary exponent. In this case, the 8-bit field yields the numbers \n",
      "0 through 255. With a bias of 127 (2\n",
      "7 - 1), the true exponent values are in the range\n",
      "\n",
      "Result 5\n",
      "\n",
      "PageNumber:  368\n",
      "346  CHAPTER 10 / COMPUTER ARITHMETIC\n",
      "is  implementation dependent, but the standard places certain constraints on the \n",
      "length of the exponent and significand. These formats are arithmetic format types \n",
      "but not interchange format types. The extended formats are to be used for inter-\n",
      "mediate calculations. With their greater precision, the extended formats lessen the \n",
      "Table 10.3 IEEE 754 Format Parameters\n",
      "Parameter\n",
      "Format\n",
      "Binary32 Binary64 Binary128\n",
      "Storage width (bits) 32 64 128\n",
      "Exponent width (bits) 8 11 15\n",
      "Exponent bias 127 1023 16383\n",
      "Maximum exponent 127 1023 16383\n",
      "Minimum exponent -126 -1022 -16382\n",
      "Approx normal number range \n",
      "(base 10)\n",
      "10-38, 10+38 10-308, 10+308 10-4932, 10+4932\n",
      "Trailing significand width (bits)* 23 52 112\n",
      "Number of exponents 254 2046 32766\n",
      "Number of fractions 2 23 252 2112\n",
      "Number of values 1.98 * 231 1.99 * 263 1.99 * 2128\n",
      "Smallest positive normal number 2-126 2-1022 2-16362\n",
      "Largest positive normal number 2128 - 2104 21024 - 2971 216384 - 216271\n"
     ]
    }
   ],
   "source": [
    "for ind,con in enumerate(result):\n",
    "    print(\"\\nResult\",ind+1)\n",
    "    print(\"\\nPageNumber: \",con.metadata[\"page\"])\n",
    "    print(con.page_content)"
   ]
  },
  {
   "cell_type": "code",
   "execution_count": 59,
   "id": "4a119250",
   "metadata": {},
   "outputs": [
    {
     "name": "stdout",
     "output_type": "stream",
     "text": [
      "\n",
      "PageNumber:  368\n",
      "Number of values 1.98 * 231 1.99 * 263 1.99 * 2128\n",
      "Smallest positive normal number 2-126 2-1022 2-16362\n",
      "Largest positive normal number 2128 - 2104 21024 - 2971 216384 - 216271\n",
      "Smallest subnormal magnitude 2-149 2-1074 2-16494\n",
      "Note: *not including implied bit and not including sign bit\n",
      "Trailing significand field\n",
      "(c) Binary128 format\n",
      "Biased\n",
      "exponent\n",
      "Trailing significand field\n",
      "(b) Binary64 format\n",
      "8 bits\n",
      "Sign\n",
      "bit\n",
      "Trailing\n",
      "significand field\n",
      "(a) Binary32 format\n",
      "Biased\n",
      "exponent\n",
      "23 bits\n",
      "11 bits 52 bits\n",
      "15 bits 112 bits\n",
      "Sign\n",
      "bit\n",
      "Biased\n",
      "exponent\n",
      "Sign\n",
      "bit\n",
      "Figure 10.21 IEEE 754 Formats\n"
     ]
    }
   ],
   "source": [
    "con = result[1]\n",
    "print(\"\\nPageNumber: \",con.metadata[\"page\"])\n",
    "print(con.page_content)"
   ]
  },
  {
   "cell_type": "code",
   "execution_count": null,
   "id": "c5a5f5d7",
   "metadata": {},
   "outputs": [],
   "source": []
  }
 ],
 "metadata": {
  "kernelspec": {
   "display_name": "Python 3",
   "language": "python",
   "name": "python3"
  },
  "language_info": {
   "codemirror_mode": {
    "name": "ipython",
    "version": 3
   },
   "file_extension": ".py",
   "mimetype": "text/x-python",
   "name": "python",
   "nbconvert_exporter": "python",
   "pygments_lexer": "ipython3",
   "version": "3.13.2"
  }
 },
 "nbformat": 4,
 "nbformat_minor": 5
}
